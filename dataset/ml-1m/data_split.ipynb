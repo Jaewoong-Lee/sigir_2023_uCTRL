{
 "cells": [
  {
   "cell_type": "code",
   "execution_count": 1,
   "metadata": {},
   "outputs": [
    {
     "data": {
      "text/plain": [
       "['ml-1m.inter',\n",
       " 'ml-1m.item',\n",
       " 'README.md',\n",
       " 'ml-1m.user',\n",
       " 'data_split.ipynb',\n",
       " 'ml-1m.p1.inter',\n",
       " 'ml-1m.p2.inter',\n",
       " 'ml-1m.p3.inter']"
      ]
     },
     "execution_count": 1,
     "metadata": {},
     "output_type": "execute_result"
    }
   ],
   "source": [
    "import numpy as np\n",
    "import pandas as pd\n",
    "import os\n",
    "import matplotlib.pyplot as plt\n",
    "os.listdir()"
   ]
  },
  {
   "cell_type": "code",
   "execution_count": 2,
   "metadata": {},
   "outputs": [
    {
     "name": "stdout",
     "output_type": "stream",
     "text": [
      "1000209\n"
     ]
    }
   ],
   "source": [
    "with open(\"./ml-1m.inter\") as f:\n",
    "    all_data = f.readlines()\n",
    "del all_data[0]\n",
    "all_data = [list(map(float,line.split())) for line in all_data]\n",
    "all_data = np.array(all_data)\n",
    "all_data = all_data[:,0:3]\n",
    "print(len(all_data))"
   ]
  },
  {
   "cell_type": "code",
   "execution_count": 3,
   "metadata": {},
   "outputs": [
    {
     "data": {
      "text/plain": [
       "100021.0"
      ]
     },
     "execution_count": 3,
     "metadata": {},
     "output_type": "execute_result"
    }
   ],
   "source": [
    "test_num = np.round(len(all_data) * 0.1)\n",
    "test_num"
   ]
  },
  {
   "cell_type": "code",
   "execution_count": 4,
   "metadata": {},
   "outputs": [
    {
     "name": "stdout",
     "output_type": "stream",
     "text": [
      "test_num:  100021.0\n",
      "item_num:  3706\n",
      "item_per_cnt:  27.0\n"
     ]
    }
   ],
   "source": [
    "all_items = all_data[:,1].astype(int)\n",
    "unique, count = np.unique(all_items, return_counts=True)\n",
    "unique_cnt = {uniq:cnt for uniq,cnt in zip(unique, count)}\n",
    "item_num = len(unique)\n",
    "item_per_cnt = np.round(test_num / item_num)\n",
    "print(\"test_num: \", test_num)\n",
    "print(\"item_num: \",item_num)\n",
    "print(\"item_per_cnt: \", item_per_cnt)"
   ]
  },
  {
   "cell_type": "code",
   "execution_count": 5,
   "metadata": {},
   "outputs": [],
   "source": [
    "p1=[]\n",
    "# p2=[]\n",
    "p3=[]\n",
    "\n",
    "all_data = all_data.astype(int)\n",
    "\n",
    "for index, unique_item in enumerate(unique_cnt.keys()):\n",
    "    item_test_num = min(np.round(unique_cnt[unique_item] * 0.2).astype(int), item_per_cnt.astype(int))\n",
    "    item_ls = all_data[all_data[:,1]==unique_item]\n",
    "    np.random.shuffle(item_ls)\n",
    "    item_ls = item_ls.tolist()\n",
    "    p3.extend(item_ls[-item_test_num:])\n",
    "    p1.extend(item_ls[:-item_test_num])\n",
    "    "
   ]
  },
  {
   "cell_type": "code",
   "execution_count": 6,
   "metadata": {},
   "outputs": [
    {
     "name": "stdout",
     "output_type": "stream",
     "text": [
      "1000209\n",
      "934736\n"
     ]
    }
   ],
   "source": [
    "print(len(p3)+len(p1))\n",
    "print(len(p1))\n"
   ]
  },
  {
   "cell_type": "code",
   "execution_count": 7,
   "metadata": {},
   "outputs": [
    {
     "data": {
      "text/plain": [
       "<BarContainer object of 3706 artists>"
      ]
     },
     "execution_count": 7,
     "metadata": {},
     "output_type": "execute_result"
    },
    {
     "data": {
      "image/png": "[encoded data removed]",
      "text/plain": [
       "<Figure size 432x288 with 1 Axes>"
      ]
     },
     "metadata": {
      "needs_background": "light"
     },
     "output_type": "display_data"
    }
   ],
   "source": [
    "count=sorted(count, reverse=True)\n",
    "plt.bar(np.arange(len(unique)),count)"
   ]
  },
  {
   "cell_type": "code",
   "execution_count": 8,
   "metadata": {},
   "outputs": [
    {
     "data": {
      "image/png": "[encoded data removed]",
      "text/plain": [
       "<Figure size 432x288 with 1 Axes>"
      ]
     },
     "metadata": {
      "needs_background": "light"
     },
     "output_type": "display_data"
    }
   ],
   "source": [
    "p3_item = np.array(p3)[:,1]\n",
    "unique, count = np.unique(p3_item, return_counts=True)\n",
    "count = sorted(count, reverse=True)\n",
    "plt.bar(np.arange(len(unique)),count)\n",
    "plt.show()"
   ]
  },
  {
   "cell_type": "code",
   "execution_count": 9,
   "metadata": {},
   "outputs": [
    {
     "name": "stdout",
     "output_type": "stream",
     "text": [
      "93473\n"
     ]
    }
   ],
   "source": [
    "token = ['user_id:token',\t'item_id:token',\t'rating:float']\n",
    "\n",
    "all_data = p1\n",
    "\n",
    "split_num = int(len(all_data) * 0.1)\n",
    "np.random.shuffle(all_data)\n",
    "\n",
    "tr_data = all_data[ split_num:]\n",
    "val_data = all_data[ :split_num]\n",
    "####################################################\n",
    "print(len(val_data))\n",
    "####################################################\n",
    "firstline_str = \"\\t\".join(token) + \"\\n\"\n",
    "\n",
    "with open(\"ml-1m.p1.inter\", 'w') as f:\n",
    "    f.write(firstline_str)\n",
    "    for line in tr_data:\n",
    "        line_str = \"\\t\".join([str(a) for a in line]) + \"\\n\"\n",
    "        f.write(line_str)\n",
    "\n",
    "with open(\"ml-1m.p2.inter\", 'w') as f:\n",
    "    f.write(firstline_str)\n",
    "    for line in val_data:\n",
    "        line_str = \"\\t\".join([str(a) for a in line]) + \"\\n\"\n",
    "        f.write(line_str)"
   ]
  },
  {
   "cell_type": "code",
   "execution_count": 10,
   "metadata": {},
   "outputs": [],
   "source": [
    "all_data = p3\n",
    "\n",
    "with open(\"ml-1m.p3.inter\", 'w') as f:\n",
    "    f.write(firstline_str)\n",
    "    for line in all_data:\n",
    "        line_str = \"\\t\".join([str(a) for a in line]) + \"\\n\"\n",
    "        f.write(line_str)"
   ]
  }
 ],
 "metadata": {
  "kernelspec": {
   "display_name": "recbole",
   "language": "python",
   "name": "python3"
  },
  "language_info": {
   "codemirror_mode": {
    "name": "ipython",
    "version": 3
   },
   "file_extension": ".py",
   "mimetype": "text/x-python",
   "name": "python",
   "nbconvert_exporter": "python",
   "pygments_lexer": "ipython3",
   "version": "3.7.13 (default, Mar 29 2022, 02:18:16) \n[GCC 7.5.0]"
  },
  "orig_nbformat": 4,
  "vscode": {
   "interpreter": {
    "hash": "c529f9df71b5931927a55ca2ffcb69d27481c1b8fffb3644b50e7b7437f91183"
   }
  }
 },
 "nbformat": 4,
 "nbformat_minor": 2
}
